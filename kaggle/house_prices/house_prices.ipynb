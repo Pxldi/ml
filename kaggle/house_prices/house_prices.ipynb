{
 "cells": [
  {
   "cell_type": "markdown",
   "id": "50c1cc6995f5bf25",
   "metadata": {
    "collapsed": false
   },
   "source": [
    "# Housing Prices"
   ]
  },
  {
   "cell_type": "code",
   "execution_count": 2,
   "id": "initial_id",
   "metadata": {
    "ExecuteTime": {
     "end_time": "2023-12-16T13:48:45.531301900Z",
     "start_time": "2023-12-16T13:48:41.400806300Z"
    },
    "collapsed": true
   },
   "outputs": [
    {
     "name": "stdout",
     "output_type": "stream",
     "text": [
      "WARNING:tensorflow:From c:\\Users\\lsl\\vscode_projects\\ml\\.venv\\lib\\site-packages\\keras\\src\\losses.py:2976: The name tf.losses.sparse_softmax_cross_entropy is deprecated. Please use tf.compat.v1.losses.sparse_softmax_cross_entropy instead.\n",
      "\n"
     ]
    }
   ],
   "source": [
    "import numpy as np\n",
    "import pandas as pd\n",
    "import tensorflow as tf\n",
    "import matplotlib.pyplot as plt\n",
    "import plotly.graph_objs as go\n",
    "import plotly.express as px\n",
    "from sklearn.linear_model import LinearRegression\n",
    "from sklearn.model_selection import train_test_split"
   ]
  },
  {
   "cell_type": "markdown",
   "id": "ef41132c6599506e",
   "metadata": {
    "collapsed": false
   },
   "source": [
    "# Prepare Data"
   ]
  },
  {
   "cell_type": "code",
   "execution_count": 3,
   "id": "a0905fac4c2226ae",
   "metadata": {
    "ExecuteTime": {
     "end_time": "2023-12-16T13:48:45.593398Z",
     "start_time": "2023-12-16T13:48:45.532302Z"
    },
    "collapsed": false
   },
   "outputs": [
    {
     "name": "stdout",
     "output_type": "stream",
     "text": [
      "['Id' 'MSSubClass' 'MSZoning' 'LotFrontage' 'LotArea' 'Street' 'Alley'\n",
      " 'LotShape' 'LandContour' 'Utilities' 'LotConfig' 'LandSlope'\n",
      " 'Neighborhood' 'Condition1' 'Condition2' 'BldgType' 'HouseStyle'\n",
      " 'OverallQual' 'OverallCond' 'YearBuilt' 'YearRemodAdd' 'RoofStyle'\n",
      " 'RoofMatl' 'Exterior1st' 'Exterior2nd' 'MasVnrType' 'MasVnrArea'\n",
      " 'ExterQual' 'ExterCond' 'Foundation' 'BsmtQual' 'BsmtCond' 'BsmtExposure'\n",
      " 'BsmtFinType1' 'BsmtFinSF1' 'BsmtFinType2' 'BsmtFinSF2' 'BsmtUnfSF'\n",
      " 'TotalBsmtSF' 'Heating' 'HeatingQC' 'CentralAir' 'Electrical' '1stFlrSF'\n",
      " '2ndFlrSF' 'LowQualFinSF' 'GrLivArea' 'BsmtFullBath' 'BsmtHalfBath'\n",
      " 'FullBath' 'HalfBath' 'BedroomAbvGr' 'KitchenAbvGr' 'KitchenQual'\n",
      " 'TotRmsAbvGrd' 'Functional' 'Fireplaces' 'FireplaceQu' 'GarageType'\n",
      " 'GarageYrBlt' 'GarageFinish' 'GarageCars' 'GarageArea' 'GarageQual'\n",
      " 'GarageCond' 'PavedDrive' 'WoodDeckSF' 'OpenPorchSF' 'EnclosedPorch'\n",
      " '3SsnPorch' 'ScreenPorch' 'PoolArea' 'PoolQC' 'Fence' 'MiscFeature'\n",
      " 'MiscVal' 'MoSold' 'YrSold' 'SaleType' 'SaleCondition' 'SalePrice']\n"
     ]
    }
   ],
   "source": [
    "train = pd.read_csv('train.csv')\n",
    "test = pd.read_csv('test.csv')\n",
    "print(train.columns.values)"
   ]
  },
  {
   "cell_type": "code",
   "execution_count": 4,
   "id": "9b62894884601475",
   "metadata": {
    "ExecuteTime": {
     "end_time": "2023-12-16T13:48:48.782783200Z",
     "start_time": "2023-12-16T13:48:48.761758100Z"
    },
    "collapsed": false
   },
   "outputs": [
    {
     "data": {
      "text/plain": [
       "Id                 0\n",
       "MSSubClass         0\n",
       "MSZoning           0\n",
       "LotFrontage      259\n",
       "LotArea            0\n",
       "                ... \n",
       "MoSold             0\n",
       "YrSold             0\n",
       "SaleType           0\n",
       "SaleCondition      0\n",
       "SalePrice          0\n",
       "Length: 81, dtype: int64"
      ]
     },
     "execution_count": 4,
     "metadata": {},
     "output_type": "execute_result"
    }
   ],
   "source": [
    "train.isnull().sum()"
   ]
  },
  {
   "cell_type": "markdown",
   "id": "85880240",
   "metadata": {},
   "source": [
    "# Preprocess Data\n",
    "\n",
    "features that need encoding:\n",
    "- MSZoning\n",
    "- Street\n",
    "- Alley (contains null values)\n",
    "- LotShape\n",
    "- LandContour\n",
    "- Utilities\n",
    "- LotConfig\n",
    "- LandSlope\n",
    "- Neighborhood\n",
    "- Condition1\n",
    "- Condition2\n",
    "- BldgType\n",
    "- HouseStyle\n",
    "- RoofStyle\n",
    "- RoofMatl\n",
    "- Exterior1st\n",
    "- Exterior2nd\n",
    "- MasVnrType\n",
    "- ExterQual\n",
    "- ExterCond\n",
    "- Foundation\n",
    "- BsmtQual (contains null values)\n",
    "- BsmtExposure (contains null values)\n",
    "- BsmtFinType1 (contains null values)\n",
    "- BsmtFinType2 (contains null values)\n",
    "- Heating\n",
    "- HeatingQC\n",
    "- CentralAir\n",
    "- Electrical\n",
    "- KitchenQual\n",
    "- Functional\n",
    "- FireplaceQu (contains null values)\n",
    "- GarageType (contains null values)\n",
    "- GarageFinish (contains null values)\n",
    "- GarageQual (contains null values)\n",
    "- GarageCond (contains null values)\n",
    "- PavedDrive\n",
    "- PoolQC (contains null values)\n",
    "- Fence (contains null values)\n",
    "- MiscFeature (contains null values)\n",
    "- SaleType\n",
    "- SaleCondition"
   ]
  },
  {
   "cell_type": "code",
   "execution_count": 5,
   "id": "cbbb001b",
   "metadata": {},
   "outputs": [],
   "source": [
    "from sklearn.preprocessing import LabelEncoder\n",
    "from sklearn.preprocessing import MinMaxScaler\n",
    "\n",
    "label_alley = LabelEncoder()\n",
    "label_bsmtqual = LabelEncoder()\n",
    "label_bsmtcond = LabelEncoder()\n",
    "label_mszoning = LabelEncoder ()\n",
    "label_bsmtexposure = LabelEncoder()\n",
    "label_bsmtfintype1 = LabelEncoder()\n",
    "label_bsmtfintype2 = LabelEncoder()\n",
    "label_fireplacequ = LabelEncoder()\n",
    "label_garagetype = LabelEncoder()\n",
    "label_garagefinish = LabelEncoder()\n",
    "label_garagequal = LabelEncoder()\n",
    "label_garagecond = LabelEncoder()\n",
    "label_poolqc = LabelEncoder()\n",
    "label_fence = LabelEncoder()\n",
    "label_miscfeatures = LabelEncoder()\n",
    "label_street = LabelEncoder()\n",
    "label_lotshape = LabelEncoder()\n",
    "label_landcontour = LabelEncoder()\n",
    "label_utilities = LabelEncoder()\n",
    "label_lotconfig = LabelEncoder()\n",
    "label_landslope = LabelEncoder()\n",
    "label_neighborhood = LabelEncoder()\n",
    "label_condition1 = LabelEncoder()\n",
    "label_condition2 = LabelEncoder()\n",
    "label_bldgtype = LabelEncoder()\n",
    "label_housestyle = LabelEncoder()\n",
    "label_roofstyle = LabelEncoder()\n",
    "label_roofmatl = LabelEncoder()\n",
    "label_exterior1st = LabelEncoder()\n",
    "label_exterior2nd = LabelEncoder()\n",
    "label_masvnrtype = LabelEncoder()\n",
    "label_exterqual = LabelEncoder()\n",
    "label_extercond = LabelEncoder()\n",
    "label_foundation = LabelEncoder()\n",
    "label_heating = LabelEncoder()\n",
    "label_heatingqc = LabelEncoder()\n",
    "label_centralair = LabelEncoder()\n",
    "label_electrical = LabelEncoder()\n",
    "label_kitchenqual = LabelEncoder()\n",
    "label_functional = LabelEncoder()\n",
    "label_paveddrive = LabelEncoder()\n",
    "label_saletype = LabelEncoder()\n",
    "label_salecondition = LabelEncoder()\n",
    "\n",
    "labels = [\n",
    "    'Alley', 'BsmtQual', 'BsmtCond', 'MSZoning', 'BsmtExposure', 'BsmtFinType1',\n",
    "    'BsmtFinType2', 'FireplaceQu', 'GarageType', 'GarageFinish', 'GarageQual',\n",
    "    'GarageCond', 'PoolQC', 'Fence', 'MiscFeature', 'Street', 'LotShape',\n",
    "    'LandContour', 'Utilities', 'LotConfig', 'LandSlope', 'Neighborhood',\n",
    "    'Condition1', 'Condition2', 'BldgType', 'HouseStyle', 'RoofStyle', 'RoofMatl',\n",
    "    'Exterior1st', 'Exterior2nd', 'MasVnrType', 'ExterQual', 'ExterCond',\n",
    "    'Foundation', 'Heating', 'HeatingQC', 'CentralAir', 'Electrical', 'KitchenQual',\n",
    "    'Functional', 'PavedDrive', 'SaleType', 'SaleCondition']\n",
    "\n",
    "encoders = [\n",
    "    label_alley, label_bsmtqual, label_bsmtcond, label_mszoning, label_bsmtexposure,\n",
    "    label_bsmtfintype1, label_bsmtfintype2, label_fireplacequ, label_garagetype,\n",
    "    label_garagefinish, label_garagequal, label_garagecond, label_poolqc,\n",
    "    label_fence, label_miscfeatures, label_street, label_lotshape, label_landcontour,\n",
    "    label_utilities, label_lotconfig, label_landslope, label_neighborhood,\n",
    "    label_condition1, label_condition2, label_bldgtype, label_housestyle,\n",
    "    label_roofstyle, label_roofmatl, label_exterior1st, label_exterior2nd,\n",
    "    label_masvnrtype, label_exterqual, label_extercond, label_foundation,\n",
    "    label_heating, label_heatingqc, label_centralair, label_electrical,\n",
    "    label_kitchenqual, label_functional, label_paveddrive, label_saletype,\n",
    "    label_salecondition]\n",
    "\n",
    "\n",
    "for data in [train, test]:\n",
    "    \n",
    "    #fill missing data\n",
    "    data['Alley'].fillna('NoAccess', inplace=True)\n",
    "    data['BsmtQual'].fillna('NoBasement', inplace=True)\n",
    "    data['BsmtCond'].fillna('NoBasement', inplace=True)\n",
    "    data['BsmtExposure'].fillna('NoBasement', inplace=True)\n",
    "    data['BsmtFinType1'].fillna('NoBasement', inplace=True)\n",
    "    data['BsmtFinType2'].fillna('NoBasement', inplace=True)\n",
    "    data['FireplaceQu'].fillna('NoFireplace', inplace=True)\n",
    "    data['GarageType'].fillna('NoGarage', inplace=True)\n",
    "    data['GarageFinish'].fillna('NoGarage', inplace=True)\n",
    "    data['GarageQual'].fillna('NoGarage', inplace=True)\n",
    "    data['GarageCond'].fillna('NoGarage', inplace=True)\n",
    "    data['PoolQC'].fillna('NoPool', inplace=True)\n",
    "    data['Fence'].fillna('NoFence', inplace=True)\n",
    "    data['MiscFeature'].fillna('NoMiscFeatures', inplace=True)\n",
    "    data['MasVnrType'].fillna('None', inplace=True)\n",
    "\n",
    "    #fill numerical null values\n",
    "    data['LotFrontage'].fillna(data['LotFrontage'].mean(), inplace=True)\n",
    "    data['MasVnrArea'].fillna(0, inplace=True)\n",
    "    data['GarageYrBlt'].fillna(0, inplace=True)\n",
    "    data['BsmtFinSF1'].fillna(0, inplace=True)\n",
    "    data['BsmtFinSF2'].fillna(0, inplace=True)\n",
    "    data['BsmtUnfSF'].fillna(0, inplace=True)\n",
    "    data['TotalBsmtSF'].fillna(0, inplace=True)\n",
    "    data['BsmtHalfBath'].fillna(0, inplace=True)\n",
    "    data['BsmtFullBath'].fillna(0, inplace=True)\n",
    "    data['GarageCars'].fillna(0, inplace=True)\n",
    "    data['GarageArea'].fillna(0, inplace=True)\n",
    "    \n",
    "    # use labelencoder to encode values into numerical values\n",
    "    for label,encoder in zip(labels,encoders):\n",
    "        data[label]=encoder.fit_transform(data[label])\n",
    "\n",
    "    # use MinMaxScaler to scale the data\n",
    "    minmax_scaler = MinMaxScaler()\n",
    "    data = minmax_scaler.fit_transform(data)"
   ]
  },
  {
   "cell_type": "code",
   "execution_count": 13,
   "id": "3a6a494d",
   "metadata": {},
   "outputs": [
    {
     "ename": "KeyError",
     "evalue": "'SalePrice'",
     "output_type": "error",
     "traceback": [
      "\u001b[1;31m---------------------------------------------------------------------------\u001b[0m",
      "\u001b[1;31mKeyError\u001b[0m                                  Traceback (most recent call last)",
      "File \u001b[1;32mc:\\Users\\lsl\\vscode_projects\\ml\\.venv\\lib\\site-packages\\pandas\\core\\indexes\\base.py:3791\u001b[0m, in \u001b[0;36mIndex.get_loc\u001b[1;34m(self, key)\u001b[0m\n\u001b[0;32m   3790\u001b[0m \u001b[38;5;28;01mtry\u001b[39;00m:\n\u001b[1;32m-> 3791\u001b[0m     \u001b[38;5;28;01mreturn\u001b[39;00m \u001b[38;5;28;43mself\u001b[39;49m\u001b[38;5;241;43m.\u001b[39;49m\u001b[43m_engine\u001b[49m\u001b[38;5;241;43m.\u001b[39;49m\u001b[43mget_loc\u001b[49m\u001b[43m(\u001b[49m\u001b[43mcasted_key\u001b[49m\u001b[43m)\u001b[49m\n\u001b[0;32m   3792\u001b[0m \u001b[38;5;28;01mexcept\u001b[39;00m \u001b[38;5;167;01mKeyError\u001b[39;00m \u001b[38;5;28;01mas\u001b[39;00m err:\n",
      "File \u001b[1;32mindex.pyx:152\u001b[0m, in \u001b[0;36mpandas._libs.index.IndexEngine.get_loc\u001b[1;34m()\u001b[0m\n",
      "File \u001b[1;32mindex.pyx:181\u001b[0m, in \u001b[0;36mpandas._libs.index.IndexEngine.get_loc\u001b[1;34m()\u001b[0m\n",
      "File \u001b[1;32mpandas\\_libs\\hashtable_class_helper.pxi:7080\u001b[0m, in \u001b[0;36mpandas._libs.hashtable.PyObjectHashTable.get_item\u001b[1;34m()\u001b[0m\n",
      "File \u001b[1;32mpandas\\_libs\\hashtable_class_helper.pxi:7088\u001b[0m, in \u001b[0;36mpandas._libs.hashtable.PyObjectHashTable.get_item\u001b[1;34m()\u001b[0m\n",
      "\u001b[1;31mKeyError\u001b[0m: 'SalePrice'",
      "\nThe above exception was the direct cause of the following exception:\n",
      "\u001b[1;31mKeyError\u001b[0m                                  Traceback (most recent call last)",
      "Cell \u001b[1;32mIn[13], line 5\u001b[0m\n\u001b[0;32m      3\u001b[0m Y_train \u001b[38;5;241m=\u001b[39m train[\u001b[38;5;124m'\u001b[39m\u001b[38;5;124mSalePrice\u001b[39m\u001b[38;5;124m'\u001b[39m]\u001b[38;5;241m.\u001b[39mto_numpy()\u001b[38;5;241m.\u001b[39mreshape((\u001b[38;5;241m-\u001b[39m\u001b[38;5;241m1\u001b[39m,\u001b[38;5;241m1\u001b[39m))\n\u001b[0;32m      4\u001b[0m X_test \u001b[38;5;241m=\u001b[39m test[test\u001b[38;5;241m.\u001b[39mcolumns\u001b[38;5;241m.\u001b[39mdifference(exclude_features)]\n\u001b[1;32m----> 5\u001b[0m Y_test \u001b[38;5;241m=\u001b[39m \u001b[43mtest\u001b[49m\u001b[43m[\u001b[49m\u001b[38;5;124;43m'\u001b[39;49m\u001b[38;5;124;43mSalePrice\u001b[39;49m\u001b[38;5;124;43m'\u001b[39;49m\u001b[43m]\u001b[49m\u001b[38;5;241m.\u001b[39mto_numpy()\u001b[38;5;241m.\u001b[39mreshape((\u001b[38;5;241m-\u001b[39m\u001b[38;5;241m1\u001b[39m,\u001b[38;5;241m1\u001b[39m))\n",
      "File \u001b[1;32mc:\\Users\\lsl\\vscode_projects\\ml\\.venv\\lib\\site-packages\\pandas\\core\\frame.py:3893\u001b[0m, in \u001b[0;36mDataFrame.__getitem__\u001b[1;34m(self, key)\u001b[0m\n\u001b[0;32m   3891\u001b[0m \u001b[38;5;28;01mif\u001b[39;00m \u001b[38;5;28mself\u001b[39m\u001b[38;5;241m.\u001b[39mcolumns\u001b[38;5;241m.\u001b[39mnlevels \u001b[38;5;241m>\u001b[39m \u001b[38;5;241m1\u001b[39m:\n\u001b[0;32m   3892\u001b[0m     \u001b[38;5;28;01mreturn\u001b[39;00m \u001b[38;5;28mself\u001b[39m\u001b[38;5;241m.\u001b[39m_getitem_multilevel(key)\n\u001b[1;32m-> 3893\u001b[0m indexer \u001b[38;5;241m=\u001b[39m \u001b[38;5;28;43mself\u001b[39;49m\u001b[38;5;241;43m.\u001b[39;49m\u001b[43mcolumns\u001b[49m\u001b[38;5;241;43m.\u001b[39;49m\u001b[43mget_loc\u001b[49m\u001b[43m(\u001b[49m\u001b[43mkey\u001b[49m\u001b[43m)\u001b[49m\n\u001b[0;32m   3894\u001b[0m \u001b[38;5;28;01mif\u001b[39;00m is_integer(indexer):\n\u001b[0;32m   3895\u001b[0m     indexer \u001b[38;5;241m=\u001b[39m [indexer]\n",
      "File \u001b[1;32mc:\\Users\\lsl\\vscode_projects\\ml\\.venv\\lib\\site-packages\\pandas\\core\\indexes\\base.py:3798\u001b[0m, in \u001b[0;36mIndex.get_loc\u001b[1;34m(self, key)\u001b[0m\n\u001b[0;32m   3793\u001b[0m     \u001b[38;5;28;01mif\u001b[39;00m \u001b[38;5;28misinstance\u001b[39m(casted_key, \u001b[38;5;28mslice\u001b[39m) \u001b[38;5;129;01mor\u001b[39;00m (\n\u001b[0;32m   3794\u001b[0m         \u001b[38;5;28misinstance\u001b[39m(casted_key, abc\u001b[38;5;241m.\u001b[39mIterable)\n\u001b[0;32m   3795\u001b[0m         \u001b[38;5;129;01mand\u001b[39;00m \u001b[38;5;28many\u001b[39m(\u001b[38;5;28misinstance\u001b[39m(x, \u001b[38;5;28mslice\u001b[39m) \u001b[38;5;28;01mfor\u001b[39;00m x \u001b[38;5;129;01min\u001b[39;00m casted_key)\n\u001b[0;32m   3796\u001b[0m     ):\n\u001b[0;32m   3797\u001b[0m         \u001b[38;5;28;01mraise\u001b[39;00m InvalidIndexError(key)\n\u001b[1;32m-> 3798\u001b[0m     \u001b[38;5;28;01mraise\u001b[39;00m \u001b[38;5;167;01mKeyError\u001b[39;00m(key) \u001b[38;5;28;01mfrom\u001b[39;00m \u001b[38;5;21;01merr\u001b[39;00m\n\u001b[0;32m   3799\u001b[0m \u001b[38;5;28;01mexcept\u001b[39;00m \u001b[38;5;167;01mTypeError\u001b[39;00m:\n\u001b[0;32m   3800\u001b[0m     \u001b[38;5;66;03m# If we have a listlike key, _check_indexing_error will raise\u001b[39;00m\n\u001b[0;32m   3801\u001b[0m     \u001b[38;5;66;03m#  InvalidIndexError. Otherwise we fall through and re-raise\u001b[39;00m\n\u001b[0;32m   3802\u001b[0m     \u001b[38;5;66;03m#  the TypeError.\u001b[39;00m\n\u001b[0;32m   3803\u001b[0m     \u001b[38;5;28mself\u001b[39m\u001b[38;5;241m.\u001b[39m_check_indexing_error(key)\n",
      "\u001b[1;31mKeyError\u001b[0m: 'SalePrice'"
     ]
    }
   ],
   "source": [
    "exclude_features = ['Id', 'SalePrice']\n",
    "X_train = train[train.columns.difference(exclude_features)]\n",
    "Y_train = train['SalePrice'].to_numpy().reshape((-1,1))\n",
    "X_test = test[test.columns.difference(exclude_features)]"
   ]
  },
  {
   "cell_type": "code",
   "execution_count": 7,
   "id": "97e25980",
   "metadata": {},
   "outputs": [
    {
     "name": "stdout",
     "output_type": "stream",
     "text": [
      "Columns with null values: []\n",
      "Columns with null values: []\n"
     ]
    }
   ],
   "source": [
    "null_columns = train.columns[train.isnull().any()]\n",
    "print(\"Columns with null values:\", null_columns.tolist())\n",
    "null_columns = test.columns[test.isnull().any()]\n",
    "print(\"Columns with null values:\", null_columns.tolist())"
   ]
  },
  {
   "cell_type": "code",
   "execution_count": 59,
   "id": "d0de308d3231dce2",
   "metadata": {
    "collapsed": false
   },
   "outputs": [
    {
     "data": {
      "text/html": [
       "<style>#sk-container-id-4 {color: black;}#sk-container-id-4 pre{padding: 0;}#sk-container-id-4 div.sk-toggleable {background-color: white;}#sk-container-id-4 label.sk-toggleable__label {cursor: pointer;display: block;width: 100%;margin-bottom: 0;padding: 0.3em;box-sizing: border-box;text-align: center;}#sk-container-id-4 label.sk-toggleable__label-arrow:before {content: \"▸\";float: left;margin-right: 0.25em;color: #696969;}#sk-container-id-4 label.sk-toggleable__label-arrow:hover:before {color: black;}#sk-container-id-4 div.sk-estimator:hover label.sk-toggleable__label-arrow:before {color: black;}#sk-container-id-4 div.sk-toggleable__content {max-height: 0;max-width: 0;overflow: hidden;text-align: left;background-color: #f0f8ff;}#sk-container-id-4 div.sk-toggleable__content pre {margin: 0.2em;color: black;border-radius: 0.25em;background-color: #f0f8ff;}#sk-container-id-4 input.sk-toggleable__control:checked~div.sk-toggleable__content {max-height: 200px;max-width: 100%;overflow: auto;}#sk-container-id-4 input.sk-toggleable__control:checked~label.sk-toggleable__label-arrow:before {content: \"▾\";}#sk-container-id-4 div.sk-estimator input.sk-toggleable__control:checked~label.sk-toggleable__label {background-color: #d4ebff;}#sk-container-id-4 div.sk-label input.sk-toggleable__control:checked~label.sk-toggleable__label {background-color: #d4ebff;}#sk-container-id-4 input.sk-hidden--visually {border: 0;clip: rect(1px 1px 1px 1px);clip: rect(1px, 1px, 1px, 1px);height: 1px;margin: -1px;overflow: hidden;padding: 0;position: absolute;width: 1px;}#sk-container-id-4 div.sk-estimator {font-family: monospace;background-color: #f0f8ff;border: 1px dotted black;border-radius: 0.25em;box-sizing: border-box;margin-bottom: 0.5em;}#sk-container-id-4 div.sk-estimator:hover {background-color: #d4ebff;}#sk-container-id-4 div.sk-parallel-item::after {content: \"\";width: 100%;border-bottom: 1px solid gray;flex-grow: 1;}#sk-container-id-4 div.sk-label:hover label.sk-toggleable__label {background-color: #d4ebff;}#sk-container-id-4 div.sk-serial::before {content: \"\";position: absolute;border-left: 1px solid gray;box-sizing: border-box;top: 0;bottom: 0;left: 50%;z-index: 0;}#sk-container-id-4 div.sk-serial {display: flex;flex-direction: column;align-items: center;background-color: white;padding-right: 0.2em;padding-left: 0.2em;position: relative;}#sk-container-id-4 div.sk-item {position: relative;z-index: 1;}#sk-container-id-4 div.sk-parallel {display: flex;align-items: stretch;justify-content: center;background-color: white;position: relative;}#sk-container-id-4 div.sk-item::before, #sk-container-id-4 div.sk-parallel-item::before {content: \"\";position: absolute;border-left: 1px solid gray;box-sizing: border-box;top: 0;bottom: 0;left: 50%;z-index: -1;}#sk-container-id-4 div.sk-parallel-item {display: flex;flex-direction: column;z-index: 1;position: relative;background-color: white;}#sk-container-id-4 div.sk-parallel-item:first-child::after {align-self: flex-end;width: 50%;}#sk-container-id-4 div.sk-parallel-item:last-child::after {align-self: flex-start;width: 50%;}#sk-container-id-4 div.sk-parallel-item:only-child::after {width: 0;}#sk-container-id-4 div.sk-dashed-wrapped {border: 1px dashed gray;margin: 0 0.4em 0.5em 0.4em;box-sizing: border-box;padding-bottom: 0.4em;background-color: white;}#sk-container-id-4 div.sk-label label {font-family: monospace;font-weight: bold;display: inline-block;line-height: 1.2em;}#sk-container-id-4 div.sk-label-container {text-align: center;}#sk-container-id-4 div.sk-container {/* jupyter's `normalize.less` sets `[hidden] { display: none; }` but bootstrap.min.css set `[hidden] { display: none !important; }` so we also need the `!important` here to be able to override the default hidden behavior on the sphinx rendered scikit-learn.org. See: https://github.com/scikit-learn/scikit-learn/issues/21755 */display: inline-block !important;position: relative;}#sk-container-id-4 div.sk-text-repr-fallback {display: none;}</style><div id=\"sk-container-id-4\" class=\"sk-top-container\"><div class=\"sk-text-repr-fallback\"><pre>LinearRegression()</pre><b>In a Jupyter environment, please rerun this cell to show the HTML representation or trust the notebook. <br />On GitHub, the HTML representation is unable to render, please try loading this page with nbviewer.org.</b></div><div class=\"sk-container\" hidden><div class=\"sk-item\"><div class=\"sk-estimator sk-toggleable\"><input class=\"sk-toggleable__control sk-hidden--visually\" id=\"sk-estimator-id-4\" type=\"checkbox\" checked><label for=\"sk-estimator-id-4\" class=\"sk-toggleable__label sk-toggleable__label-arrow\">LinearRegression</label><div class=\"sk-toggleable__content\"><pre>LinearRegression()</pre></div></div></div></div></div>"
      ],
      "text/plain": [
       "LinearRegression()"
      ]
     },
     "execution_count": 59,
     "metadata": {},
     "output_type": "execute_result"
    }
   ],
   "source": [
    "lr = LinearRegression()\n",
    "lr.fit(X_train, Y_train)"
   ]
  },
  {
   "cell_type": "code",
   "execution_count": 61,
   "id": "a7197aeb3c5972c1",
   "metadata": {
    "ExecuteTime": {
     "end_time": "2023-12-13T21:08:36.681801Z",
     "start_time": "2023-12-13T21:08:36.670788700Z"
    },
    "collapsed": false
   },
   "outputs": [
    {
     "name": "stdout",
     "output_type": "stream",
     "text": [
      "[194637.87887351 251550.07432535 257690.35825905 ... 233601.60233327\n",
      " 207008.55454586 333112.59958196]\n",
      "(1459,)\n"
     ]
    }
   ],
   "source": [
    "lr_predict=lr.predict(X_test)\n",
    "lr_predict=np.array(lr_predict)\n",
    "lr_predict = lr_predict.flatten()\n",
    "print(lr_predict)\n",
    "print(test.Id.shape)"
   ]
  },
  {
   "cell_type": "code",
   "execution_count": 8,
   "id": "86923f08",
   "metadata": {},
   "outputs": [],
   "source": [
    "from tensorflow.keras.models import Sequential\n",
    "from tensorflow.keras.layers import Dense\n"
   ]
  },
  {
   "cell_type": "code",
   "execution_count": 10,
   "id": "4e69491b",
   "metadata": {},
   "outputs": [
    {
     "name": "stdout",
     "output_type": "stream",
     "text": [
      "WARNING:tensorflow:From c:\\Users\\lsl\\vscode_projects\\ml\\.venv\\lib\\site-packages\\keras\\src\\optimizers\\__init__.py:309: The name tf.train.Optimizer is deprecated. Please use tf.compat.v1.train.Optimizer instead.\n",
      "\n"
     ]
    }
   ],
   "source": [
    "model = Sequential([\n",
    "    Dense(64, activation='relu', input_shape=(X_train.shape[1],)),\n",
    "    Dense(32, activation='relu'),\n",
    "    Dense(1)  # Output layer for regression\n",
    "])\n",
    "model.compile(optimizer='adam', loss='mean_squared_error')"
   ]
  },
  {
   "cell_type": "code",
   "execution_count": 11,
   "id": "fe54006a",
   "metadata": {},
   "outputs": [
    {
     "name": "stdout",
     "output_type": "stream",
     "text": [
      "Epoch 1/100\n",
      "WARNING:tensorflow:From c:\\Users\\lsl\\vscode_projects\\ml\\.venv\\lib\\site-packages\\keras\\src\\utils\\tf_utils.py:492: The name tf.ragged.RaggedTensorValue is deprecated. Please use tf.compat.v1.ragged.RaggedTensorValue instead.\n",
      "\n",
      "46/46 [==============================] - 1s 3ms/step - loss: 35747221504.0000\n",
      "Epoch 2/100\n",
      "46/46 [==============================] - 0s 3ms/step - loss: 24039059456.0000\n",
      "Epoch 3/100\n",
      "46/46 [==============================] - 0s 2ms/step - loss: 9532829696.0000\n",
      "Epoch 4/100\n",
      "46/46 [==============================] - 0s 2ms/step - loss: 6375362048.0000\n",
      "Epoch 5/100\n",
      "46/46 [==============================] - 0s 2ms/step - loss: 5499405312.0000\n",
      "Epoch 6/100\n",
      "46/46 [==============================] - 0s 2ms/step - loss: 4890128384.0000\n",
      "Epoch 7/100\n",
      "46/46 [==============================] - 0s 2ms/step - loss: 4432391680.0000\n",
      "Epoch 8/100\n",
      "46/46 [==============================] - 0s 2ms/step - loss: 4156828416.0000\n",
      "Epoch 9/100\n",
      "46/46 [==============================] - 0s 2ms/step - loss: 3775964160.0000\n",
      "Epoch 10/100\n",
      "46/46 [==============================] - 0s 3ms/step - loss: 3570227456.0000\n",
      "Epoch 11/100\n",
      "46/46 [==============================] - 0s 2ms/step - loss: 3359926528.0000\n",
      "Epoch 12/100\n",
      "46/46 [==============================] - 0s 2ms/step - loss: 3222457600.0000\n",
      "Epoch 13/100\n",
      "46/46 [==============================] - 0s 2ms/step - loss: 3055500800.0000\n",
      "Epoch 14/100\n",
      "46/46 [==============================] - 0s 2ms/step - loss: 2955297024.0000\n",
      "Epoch 15/100\n",
      "46/46 [==============================] - 0s 2ms/step - loss: 2831108096.0000\n",
      "Epoch 16/100\n",
      "46/46 [==============================] - 0s 2ms/step - loss: 2712458752.0000\n",
      "Epoch 17/100\n",
      "46/46 [==============================] - 0s 3ms/step - loss: 2599842816.0000\n",
      "Epoch 18/100\n",
      "46/46 [==============================] - 0s 2ms/step - loss: 2511674368.0000\n",
      "Epoch 19/100\n",
      "46/46 [==============================] - 0s 2ms/step - loss: 2418398976.0000\n",
      "Epoch 20/100\n",
      "46/46 [==============================] - 0s 2ms/step - loss: 2338287104.0000\n",
      "Epoch 21/100\n",
      "46/46 [==============================] - 0s 2ms/step - loss: 2280215296.0000\n",
      "Epoch 22/100\n",
      "46/46 [==============================] - 0s 2ms/step - loss: 2212635904.0000\n",
      "Epoch 23/100\n",
      "46/46 [==============================] - 0s 2ms/step - loss: 2178619392.0000\n",
      "Epoch 24/100\n",
      "46/46 [==============================] - 0s 2ms/step - loss: 2112161920.0000\n",
      "Epoch 25/100\n",
      "46/46 [==============================] - 0s 2ms/step - loss: 2099234432.0000\n",
      "Epoch 26/100\n",
      "46/46 [==============================] - 0s 2ms/step - loss: 2058164224.0000\n",
      "Epoch 27/100\n",
      "46/46 [==============================] - 0s 2ms/step - loss: 2038685440.0000\n",
      "Epoch 28/100\n",
      "46/46 [==============================] - 0s 2ms/step - loss: 2020455296.0000\n",
      "Epoch 29/100\n",
      "46/46 [==============================] - 0s 2ms/step - loss: 2019268864.0000\n",
      "Epoch 30/100\n",
      "46/46 [==============================] - 0s 2ms/step - loss: 1984359168.0000\n",
      "Epoch 31/100\n",
      "46/46 [==============================] - 0s 2ms/step - loss: 1987257600.0000\n",
      "Epoch 32/100\n",
      "46/46 [==============================] - 0s 2ms/step - loss: 1964662784.0000\n",
      "Epoch 33/100\n",
      "46/46 [==============================] - 0s 2ms/step - loss: 1965987840.0000\n",
      "Epoch 34/100\n",
      "46/46 [==============================] - 0s 2ms/step - loss: 1960202368.0000\n",
      "Epoch 35/100\n",
      "46/46 [==============================] - 0s 2ms/step - loss: 2037612288.0000\n",
      "Epoch 36/100\n",
      "46/46 [==============================] - 0s 2ms/step - loss: 1958485248.0000\n",
      "Epoch 37/100\n",
      "46/46 [==============================] - 0s 2ms/step - loss: 1957320960.0000\n",
      "Epoch 38/100\n",
      "46/46 [==============================] - 0s 2ms/step - loss: 1936240512.0000\n",
      "Epoch 39/100\n",
      "46/46 [==============================] - 0s 2ms/step - loss: 1931620864.0000\n",
      "Epoch 40/100\n",
      "46/46 [==============================] - 0s 2ms/step - loss: 1940192896.0000\n",
      "Epoch 41/100\n",
      "46/46 [==============================] - 0s 2ms/step - loss: 1952591232.0000\n",
      "Epoch 42/100\n",
      "46/46 [==============================] - 0s 2ms/step - loss: 1932953600.0000\n",
      "Epoch 43/100\n",
      "46/46 [==============================] - 0s 2ms/step - loss: 1932096128.0000\n",
      "Epoch 44/100\n",
      "46/46 [==============================] - 0s 2ms/step - loss: 1906054400.0000\n",
      "Epoch 45/100\n",
      "46/46 [==============================] - 0s 2ms/step - loss: 1929809024.0000\n",
      "Epoch 46/100\n",
      "46/46 [==============================] - 0s 2ms/step - loss: 1911323904.0000\n",
      "Epoch 47/100\n",
      "46/46 [==============================] - 0s 2ms/step - loss: 1902516224.0000\n",
      "Epoch 48/100\n",
      "46/46 [==============================] - 0s 2ms/step - loss: 1945833856.0000\n",
      "Epoch 49/100\n",
      "46/46 [==============================] - 0s 2ms/step - loss: 1912275072.0000\n",
      "Epoch 50/100\n",
      "46/46 [==============================] - 0s 2ms/step - loss: 1895643648.0000\n",
      "Epoch 51/100\n",
      "46/46 [==============================] - 0s 2ms/step - loss: 1914498560.0000\n",
      "Epoch 52/100\n",
      "46/46 [==============================] - 0s 2ms/step - loss: 1910542336.0000\n",
      "Epoch 53/100\n",
      "46/46 [==============================] - 0s 2ms/step - loss: 1886460544.0000\n",
      "Epoch 54/100\n",
      "46/46 [==============================] - 0s 2ms/step - loss: 1939544320.0000\n",
      "Epoch 55/100\n",
      "46/46 [==============================] - 0s 2ms/step - loss: 1897844096.0000\n",
      "Epoch 56/100\n",
      "46/46 [==============================] - 0s 2ms/step - loss: 1963162112.0000\n",
      "Epoch 57/100\n",
      "46/46 [==============================] - 0s 2ms/step - loss: 1906902656.0000\n",
      "Epoch 58/100\n",
      "46/46 [==============================] - 0s 2ms/step - loss: 1881182720.0000\n",
      "Epoch 59/100\n",
      "46/46 [==============================] - 0s 2ms/step - loss: 1885298176.0000\n",
      "Epoch 60/100\n",
      "46/46 [==============================] - 0s 2ms/step - loss: 1852393216.0000\n",
      "Epoch 61/100\n",
      "46/46 [==============================] - 0s 2ms/step - loss: 1860371328.0000\n",
      "Epoch 62/100\n",
      "46/46 [==============================] - 0s 3ms/step - loss: 1871714944.0000\n",
      "Epoch 63/100\n",
      "46/46 [==============================] - 0s 3ms/step - loss: 1857383040.0000\n",
      "Epoch 64/100\n",
      "46/46 [==============================] - 0s 2ms/step - loss: 1859057536.0000\n",
      "Epoch 65/100\n",
      "46/46 [==============================] - 0s 2ms/step - loss: 1836667264.0000\n",
      "Epoch 66/100\n",
      "46/46 [==============================] - 0s 2ms/step - loss: 1854824960.0000\n",
      "Epoch 67/100\n",
      "46/46 [==============================] - 0s 2ms/step - loss: 1836695296.0000\n",
      "Epoch 68/100\n",
      "46/46 [==============================] - 0s 2ms/step - loss: 1884904832.0000\n",
      "Epoch 69/100\n",
      "46/46 [==============================] - 0s 2ms/step - loss: 1836953984.0000\n",
      "Epoch 70/100\n",
      "46/46 [==============================] - 0s 2ms/step - loss: 1867646208.0000\n",
      "Epoch 71/100\n",
      "46/46 [==============================] - 0s 2ms/step - loss: 1830624640.0000\n",
      "Epoch 72/100\n",
      "46/46 [==============================] - 0s 2ms/step - loss: 1835828736.0000\n",
      "Epoch 73/100\n",
      "46/46 [==============================] - 0s 2ms/step - loss: 1826020224.0000\n",
      "Epoch 74/100\n",
      "46/46 [==============================] - 0s 2ms/step - loss: 1834249088.0000\n",
      "Epoch 75/100\n",
      "46/46 [==============================] - 0s 2ms/step - loss: 1821921152.0000\n",
      "Epoch 76/100\n",
      "46/46 [==============================] - 0s 2ms/step - loss: 1818339584.0000\n",
      "Epoch 77/100\n",
      "46/46 [==============================] - 0s 2ms/step - loss: 1822495616.0000\n",
      "Epoch 78/100\n",
      "46/46 [==============================] - 0s 2ms/step - loss: 1819670016.0000\n",
      "Epoch 79/100\n",
      "46/46 [==============================] - 0s 2ms/step - loss: 1807206016.0000\n",
      "Epoch 80/100\n",
      "46/46 [==============================] - 0s 2ms/step - loss: 1780843264.0000\n",
      "Epoch 81/100\n",
      "46/46 [==============================] - 0s 2ms/step - loss: 1801752704.0000\n",
      "Epoch 82/100\n",
      "46/46 [==============================] - 0s 2ms/step - loss: 1800696960.0000\n",
      "Epoch 83/100\n",
      "46/46 [==============================] - 0s 2ms/step - loss: 1795994880.0000\n",
      "Epoch 84/100\n",
      "46/46 [==============================] - 0s 2ms/step - loss: 1778814720.0000\n",
      "Epoch 85/100\n",
      "46/46 [==============================] - 0s 2ms/step - loss: 1788462848.0000\n",
      "Epoch 86/100\n",
      "46/46 [==============================] - 0s 2ms/step - loss: 1786039680.0000\n",
      "Epoch 87/100\n",
      "46/46 [==============================] - 0s 2ms/step - loss: 1799274752.0000\n",
      "Epoch 88/100\n",
      "46/46 [==============================] - 0s 2ms/step - loss: 1791213952.0000\n",
      "Epoch 89/100\n",
      "46/46 [==============================] - 0s 2ms/step - loss: 1792868864.0000\n",
      "Epoch 90/100\n",
      "46/46 [==============================] - 0s 2ms/step - loss: 1771684736.0000\n",
      "Epoch 91/100\n",
      "46/46 [==============================] - 0s 2ms/step - loss: 1767360000.0000\n",
      "Epoch 92/100\n",
      "46/46 [==============================] - 0s 2ms/step - loss: 1764583040.0000\n",
      "Epoch 93/100\n",
      "46/46 [==============================] - 0s 2ms/step - loss: 1770417152.0000\n",
      "Epoch 94/100\n",
      "46/46 [==============================] - 0s 2ms/step - loss: 1773570048.0000\n",
      "Epoch 95/100\n",
      "46/46 [==============================] - 0s 2ms/step - loss: 1756931456.0000\n",
      "Epoch 96/100\n",
      "46/46 [==============================] - 0s 2ms/step - loss: 1760624768.0000\n",
      "Epoch 97/100\n",
      "46/46 [==============================] - 0s 2ms/step - loss: 1778906496.0000\n",
      "Epoch 98/100\n",
      "46/46 [==============================] - 0s 2ms/step - loss: 1775494528.0000\n",
      "Epoch 99/100\n",
      "46/46 [==============================] - 0s 2ms/step - loss: 1741645952.0000\n",
      "Epoch 100/100\n",
      "46/46 [==============================] - 0s 2ms/step - loss: 1759085056.0000\n"
     ]
    },
    {
     "data": {
      "text/plain": [
       "<keras.src.callbacks.History at 0x1905ce0f070>"
      ]
     },
     "execution_count": 11,
     "metadata": {},
     "output_type": "execute_result"
    }
   ],
   "source": [
    "model.fit(X_train, Y_train, epochs=100)"
   ]
  },
  {
   "cell_type": "code",
   "execution_count": 14,
   "id": "61173285",
   "metadata": {},
   "outputs": [
    {
     "name": "stdout",
     "output_type": "stream",
     "text": [
      "46/46 [==============================] - 0s 2ms/step\n"
     ]
    }
   ],
   "source": [
    "# Make predictions\n",
    "predictions = model.predict(X_test)"
   ]
  },
  {
   "cell_type": "code",
   "execution_count": 18,
   "id": "54896bd7f826f059",
   "metadata": {
    "ExecuteTime": {
     "end_time": "2023-12-13T21:08:42.969051700Z",
     "start_time": "2023-12-13T21:08:42.948610500Z"
    },
    "collapsed": false
   },
   "outputs": [],
   "source": [
    "output = pd.DataFrame({'Id': test.Id.values, 'SalePrice': predictions.flatten()})\n",
    "output.to_csv('submission.csv', index=False)\n"
   ]
  },
  {
   "cell_type": "code",
   "execution_count": 19,
   "id": "408879d04fa08df1",
   "metadata": {
    "ExecuteTime": {
     "end_time": "2023-12-13T21:08:44.227479200Z",
     "start_time": "2023-12-13T21:08:44.197522500Z"
    },
    "collapsed": false
   },
   "outputs": [
    {
     "data": {
      "text/html": [
       "<div>\n",
       "<style scoped>\n",
       "    .dataframe tbody tr th:only-of-type {\n",
       "        vertical-align: middle;\n",
       "    }\n",
       "\n",
       "    .dataframe tbody tr th {\n",
       "        vertical-align: top;\n",
       "    }\n",
       "\n",
       "    .dataframe thead th {\n",
       "        text-align: right;\n",
       "    }\n",
       "</style>\n",
       "<table border=\"1\" class=\"dataframe\">\n",
       "  <thead>\n",
       "    <tr style=\"text-align: right;\">\n",
       "      <th></th>\n",
       "      <th>Id</th>\n",
       "      <th>SalePrice</th>\n",
       "    </tr>\n",
       "  </thead>\n",
       "  <tbody>\n",
       "    <tr>\n",
       "      <th>0</th>\n",
       "      <td>1461</td>\n",
       "      <td>143630.80</td>\n",
       "    </tr>\n",
       "    <tr>\n",
       "      <th>1</th>\n",
       "      <td>1462</td>\n",
       "      <td>172277.45</td>\n",
       "    </tr>\n",
       "    <tr>\n",
       "      <th>2</th>\n",
       "      <td>1463</td>\n",
       "      <td>183566.16</td>\n",
       "    </tr>\n",
       "    <tr>\n",
       "      <th>3</th>\n",
       "      <td>1464</td>\n",
       "      <td>186993.28</td>\n",
       "    </tr>\n",
       "    <tr>\n",
       "      <th>4</th>\n",
       "      <td>1465</td>\n",
       "      <td>166155.92</td>\n",
       "    </tr>\n",
       "  </tbody>\n",
       "</table>\n",
       "</div>"
      ],
      "text/plain": [
       "     Id  SalePrice\n",
       "0  1461  143630.80\n",
       "1  1462  172277.45\n",
       "2  1463  183566.16\n",
       "3  1464  186993.28\n",
       "4  1465  166155.92"
      ]
     },
     "execution_count": 19,
     "metadata": {},
     "output_type": "execute_result"
    }
   ],
   "source": [
    "submission = pd.read_csv('submission.csv')\n",
    "submission.head(5)"
   ]
  },
  {
   "cell_type": "code",
   "execution_count": null,
   "id": "30e83c59",
   "metadata": {},
   "outputs": [],
   "source": []
  }
 ],
 "metadata": {
  "kernelspec": {
   "display_name": "Python 3",
   "language": "python",
   "name": "python3"
  },
  "language_info": {
   "codemirror_mode": {
    "name": "ipython",
    "version": 3
   },
   "file_extension": ".py",
   "mimetype": "text/x-python",
   "name": "python",
   "nbconvert_exporter": "python",
   "pygments_lexer": "ipython3",
   "version": "3.9.0"
  }
 },
 "nbformat": 4,
 "nbformat_minor": 5
}
