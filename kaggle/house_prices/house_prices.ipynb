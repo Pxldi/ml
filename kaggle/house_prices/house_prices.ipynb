{
 "cells": [
  {
   "cell_type": "markdown",
   "id": "50c1cc6995f5bf25",
   "metadata": {
    "collapsed": false
   },
   "source": [
    "# Ames Housing"
   ]
  },
  {
   "cell_type": "code",
   "execution_count": 2,
   "id": "initial_id",
   "metadata": {
    "ExecuteTime": {
     "end_time": "2023-12-16T13:48:45.531301900Z",
     "start_time": "2023-12-16T13:48:41.400806300Z"
    },
    "collapsed": true
   },
   "outputs": [
    {
     "ename": "ModuleNotFoundError",
     "evalue": "No module named 'plotly'",
     "output_type": "error",
     "traceback": [
      "\u001b[1;31m---------------------------------------------------------------------------\u001b[0m",
      "\u001b[1;31mModuleNotFoundError\u001b[0m                       Traceback (most recent call last)",
      "Cell \u001b[1;32mIn[2], line 4\u001b[0m\n\u001b[0;32m      2\u001b[0m \u001b[38;5;28;01mimport\u001b[39;00m \u001b[38;5;21;01mpandas\u001b[39;00m \u001b[38;5;28;01mas\u001b[39;00m \u001b[38;5;21;01mpd\u001b[39;00m\n\u001b[0;32m      3\u001b[0m \u001b[38;5;28;01mimport\u001b[39;00m \u001b[38;5;21;01mmatplotlib\u001b[39;00m\u001b[38;5;21;01m.\u001b[39;00m\u001b[38;5;21;01mpyplot\u001b[39;00m \u001b[38;5;28;01mas\u001b[39;00m \u001b[38;5;21;01mplt\u001b[39;00m\n\u001b[1;32m----> 4\u001b[0m \u001b[38;5;28;01mimport\u001b[39;00m \u001b[38;5;21;01mplotly\u001b[39;00m\u001b[38;5;21;01m.\u001b[39;00m\u001b[38;5;21;01mgraph_objs\u001b[39;00m \u001b[38;5;28;01mas\u001b[39;00m \u001b[38;5;21;01mgo\u001b[39;00m\n\u001b[0;32m      5\u001b[0m \u001b[38;5;28;01mimport\u001b[39;00m \u001b[38;5;21;01mplotly\u001b[39;00m\u001b[38;5;21;01m.\u001b[39;00m\u001b[38;5;21;01mexpress\u001b[39;00m \u001b[38;5;28;01mas\u001b[39;00m \u001b[38;5;21;01mpx\u001b[39;00m\n\u001b[0;32m      6\u001b[0m \u001b[38;5;28;01mfrom\u001b[39;00m \u001b[38;5;21;01msklearn\u001b[39;00m\u001b[38;5;21;01m.\u001b[39;00m\u001b[38;5;21;01mlinear_model\u001b[39;00m \u001b[38;5;28;01mimport\u001b[39;00m LinearRegression\n",
      "\u001b[1;31mModuleNotFoundError\u001b[0m: No module named 'plotly'"
     ]
    }
   ],
   "source": [
    "import numpy as np\n",
    "import pandas as pd\n",
    "import matplotlib.pyplot as plt\n",
    "import plotly.graph_objs as go\n",
    "import plotly.express as px\n",
    "from sklearn.linear_model import LinearRegression\n",
    "from sklearn.model_selection import train_test_split"
   ]
  },
  {
   "cell_type": "markdown",
   "id": "ef41132c6599506e",
   "metadata": {
    "collapsed": false
   },
   "source": [
    "# Prepare Data"
   ]
  },
  {
   "cell_type": "code",
   "execution_count": 3,
   "id": "a0905fac4c2226ae",
   "metadata": {
    "ExecuteTime": {
     "end_time": "2023-12-16T13:48:45.593398Z",
     "start_time": "2023-12-16T13:48:45.532302Z"
    },
    "collapsed": false
   },
   "outputs": [
    {
     "name": "stdout",
     "output_type": "stream",
     "text": [
      "['Id' 'MSSubClass' 'MSZoning' 'LotFrontage' 'LotArea' 'Street' 'Alley'\n",
      " 'LotShape' 'LandContour' 'Utilities' 'LotConfig' 'LandSlope'\n",
      " 'Neighborhood' 'Condition1' 'Condition2' 'BldgType' 'HouseStyle'\n",
      " 'OverallQual' 'OverallCond' 'YearBuilt' 'YearRemodAdd' 'RoofStyle'\n",
      " 'RoofMatl' 'Exterior1st' 'Exterior2nd' 'MasVnrType' 'MasVnrArea'\n",
      " 'ExterQual' 'ExterCond' 'Foundation' 'BsmtQual' 'BsmtCond' 'BsmtExposure'\n",
      " 'BsmtFinType1' 'BsmtFinSF1' 'BsmtFinType2' 'BsmtFinSF2' 'BsmtUnfSF'\n",
      " 'TotalBsmtSF' 'Heating' 'HeatingQC' 'CentralAir' 'Electrical' '1stFlrSF'\n",
      " '2ndFlrSF' 'LowQualFinSF' 'GrLivArea' 'BsmtFullBath' 'BsmtHalfBath'\n",
      " 'FullBath' 'HalfBath' 'BedroomAbvGr' 'KitchenAbvGr' 'KitchenQual'\n",
      " 'TotRmsAbvGrd' 'Functional' 'Fireplaces' 'FireplaceQu' 'GarageType'\n",
      " 'GarageYrBlt' 'GarageFinish' 'GarageCars' 'GarageArea' 'GarageQual'\n",
      " 'GarageCond' 'PavedDrive' 'WoodDeckSF' 'OpenPorchSF' 'EnclosedPorch'\n",
      " '3SsnPorch' 'ScreenPorch' 'PoolArea' 'PoolQC' 'Fence' 'MiscFeature'\n",
      " 'MiscVal' 'MoSold' 'YrSold' 'SaleType' 'SaleCondition' 'SalePrice']\n"
     ]
    }
   ],
   "source": [
    "train = pd.read_csv('train.csv')\n",
    "test = pd.read_csv('test.csv')\n",
    "print(train.columns.values)"
   ]
  },
  {
   "cell_type": "code",
   "execution_count": 4,
   "id": "9b62894884601475",
   "metadata": {
    "ExecuteTime": {
     "end_time": "2023-12-16T13:48:48.782783200Z",
     "start_time": "2023-12-16T13:48:48.761758100Z"
    },
    "collapsed": false
   },
   "outputs": [
    {
     "data": {
      "text/plain": [
       "Id                 0\n",
       "MSSubClass         0\n",
       "MSZoning           0\n",
       "LotFrontage      259\n",
       "LotArea            0\n",
       "                ... \n",
       "MoSold             0\n",
       "YrSold             0\n",
       "SaleType           0\n",
       "SaleCondition      0\n",
       "SalePrice          0\n",
       "Length: 81, dtype: int64"
      ]
     },
     "execution_count": 4,
     "metadata": {},
     "output_type": "execute_result"
    }
   ],
   "source": [
    "train.isnull().sum()"
   ]
  },
  {
   "cell_type": "markdown",
   "id": "ceb3747b3c486d0e",
   "metadata": {
    "collapsed": false
   },
   "source": [
    "# Column Description\n",
    "\n",
    "MSSubClass,0: Identifies the type of dwelling involved in the sale.\n",
    "- 20 1-STORY 1946 & NEWER ALL STYLES\n",
    "- 30 1-STORY 1945 & OLDER\n",
    "- 40 1-STORY W/FINISHED ATTIC ALL AGES\n",
    "- 45 1-1/2 STORY - UNFINISHED ALL AGES\n",
    "- 50 1-1/2 STORY FINISHED ALL AGES\n",
    "- 60 2-STORY 1946 & NEWER\n",
    "- 70 2-STORY 1945 & OLDER\n",
    "- 75 2-1/2 STORY ALL AGES\n",
    "- 80 SPLIT OR MULTI-LEVEL\n",
    "- 85 SPLIT FOYER\n",
    "- 90 DUPLEX - ALL STYLES AND AGES\n",
    "- 120 1-STORY PUD (Planned Unit Development) - 1946 & NEWER\n",
    "- 150 1-1/2 STORY PUD - ALL AGES\n",
    "- 160 2-STORY PUD - 1946 & NEWER\n",
    "- 180 PUD - MULTILEVEL - INCL SPLIT LEV/FOYER\n",
    "- 190 2 FAMILY CONVERSION - ALL STYLES AND AGES\n",
    "    \n",
    "MSZoning,0\n",
    "LotFrontage,259\n",
    "LotArea,0\n",
    "Street,0\n",
    "Alley,1369\n",
    "LotShape,0\n",
    "LandContour,0\n",
    "Utilities,0\n",
    "LotConfig,0\n",
    "LandSlope,0\n",
    "Neighborhood,0\n",
    "Condition1,0\n",
    "Condition2,0\n",
    "BldgType,0\n",
    "HouseStyle,0\n",
    "OverallQual,0\n",
    "OverallCond,0\n",
    "YearBuilt,0\n",
    "YearRemodAdd,0\n",
    "RoofStyle,0\n",
    "RoofMatl,0\n",
    "Exterior1st,0\n",
    "Exterior2nd,0\n",
    "MasVnrType,872\n",
    "MasVnrArea,8\n",
    "ExterQual,0\n",
    "ExterCond,0\n",
    "Foundation,0\n",
    "BsmtQual,37\n",
    "BsmtCond,37\n",
    "BsmtExposure,38\n",
    "BsmtFinType1,37\n",
    "BsmtFinSF1,0\n",
    "BsmtFinType2,38\n",
    "BsmtFinSF2,0\n",
    "BsmtUnfSF,0\n",
    "TotalBsmtSF,0\n",
    "Heating,0\n",
    "HeatingQC,0\n",
    "CentralAir,0\n",
    "Electrical,1\n",
    "1stFlrSF,0\n",
    "2ndFlrSF,0\n",
    "LowQualFinSF,0\n",
    "GrLivArea,0\n",
    "BsmtFullBath,0\n",
    "BsmtHalfBath,0\n",
    "FullBath,0\n",
    "HalfBath,0\n",
    "BedroomAbvGr,0\n",
    "KitchenAbvGr,0\n",
    "KitchenQual,0\n",
    "TotRmsAbvGrd,0\n",
    "Functional,0\n",
    "Fireplaces,0\n",
    "FireplaceQu,690\n",
    "GarageType,81\n",
    "GarageYrBlt,81\n",
    "GarageFinish,81\n",
    "GarageCars,0\n",
    "GarageArea,0\n",
    "GarageQual,81\n",
    "GarageCond,81\n",
    "PavedDrive,0\n",
    "WoodDeckSF,0\n",
    "OpenPorchSF,0\n",
    "EnclosedPorch,0\n",
    "3SsnPorch,0\n",
    "ScreenPorch,0\n",
    "PoolArea,0\n",
    "PoolQC,1453\n",
    "Fence,1179\n",
    "MiscFeature,1406\n",
    "MiscVal,0\n",
    "MoSold,0\n",
    "YrSold,0\n",
    "SaleType,0\n",
    "SaleCondition,0\n",
    "SalePrice,0\n",
    "</font>\n",
    "1stFlrSF: First Floor square feet\n",
    "3SsnPorch: Three season porch area in square feet\n",
    "BedroomAbvGr: Bedrooms above ground\n",
    "BldgType"
   ]
  },
  {
   "cell_type": "code",
   "execution_count": null,
   "id": "d1f215e6cc46cf3f",
   "metadata": {
    "ExecuteTime": {
     "end_time": "2023-12-15T21:07:00.239825300Z",
     "start_time": "2023-12-15T21:07:00.224314Z"
    },
    "collapsed": false
   },
   "outputs": [],
   "source": [
    "#"
   ]
  },
  {
   "cell_type": "code",
   "execution_count": 29,
   "id": "3dffdd3f3da67898",
   "metadata": {
    "ExecuteTime": {
     "end_time": "2023-12-13T21:03:55.740643400Z",
     "start_time": "2023-12-13T21:03:55.725618300Z"
    },
    "collapsed": false
   },
   "outputs": [],
   "source": [
    "features = [\"LotArea\", \"YearBuilt\", \"GrLivArea\"]\n",
    "X_train = train[features]\n",
    "Y_train = train['SalePrice'].to_numpy().reshape((-1,1))\n",
    "X_test = test[features]"
   ]
  },
  {
   "cell_type": "code",
   "execution_count": null,
   "id": "d0de308d3231dce2",
   "metadata": {
    "collapsed": false
   },
   "outputs": [],
   "source": [
    "lr = LinearRegression()\n",
    "lr.fit(X_train, Y_train)"
   ]
  },
  {
   "cell_type": "code",
   "execution_count": 37,
   "id": "a7197aeb3c5972c1",
   "metadata": {
    "ExecuteTime": {
     "end_time": "2023-12-13T21:08:36.681801Z",
     "start_time": "2023-12-13T21:08:36.670788700Z"
    },
    "collapsed": false
   },
   "outputs": [
    {
     "name": "stdout",
     "output_type": "stream",
     "text": [
      "[114527.10890421 152895.53063549 221069.34403878 ... 149988.84085355\n",
      " 153075.4789707  247305.38232577]\n",
      "(1459,)\n"
     ]
    }
   ],
   "source": [
    "lr_predict=lr.predict(X_test)\n",
    "lr_predict=np.array(lr_predict)\n",
    "lr_predict = lr_predict.flatten()\n",
    "print(lr_predict)\n",
    "print(test.Id.shape)"
   ]
  },
  {
   "cell_type": "code",
   "execution_count": 38,
   "id": "54896bd7f826f059",
   "metadata": {
    "ExecuteTime": {
     "end_time": "2023-12-13T21:08:42.969051700Z",
     "start_time": "2023-12-13T21:08:42.948610500Z"
    },
    "collapsed": false
   },
   "outputs": [],
   "source": [
    "output = pd.DataFrame({'Id': test.Id, 'SalePrice': lr_predict})\n",
    "output.to_csv('submission.csv', index=False)"
   ]
  },
  {
   "cell_type": "code",
   "execution_count": 39,
   "id": "408879d04fa08df1",
   "metadata": {
    "ExecuteTime": {
     "end_time": "2023-12-13T21:08:44.227479200Z",
     "start_time": "2023-12-13T21:08:44.197522500Z"
    },
    "collapsed": false
   },
   "outputs": [
    {
     "data": {
      "text/html": [
       "<div>\n",
       "<style scoped>\n",
       "    .dataframe tbody tr th:only-of-type {\n",
       "        vertical-align: middle;\n",
       "    }\n",
       "\n",
       "    .dataframe tbody tr th {\n",
       "        vertical-align: top;\n",
       "    }\n",
       "\n",
       "    .dataframe thead th {\n",
       "        text-align: right;\n",
       "    }\n",
       "</style>\n",
       "<table border=\"1\" class=\"dataframe\">\n",
       "  <thead>\n",
       "    <tr style=\"text-align: right;\">\n",
       "      <th></th>\n",
       "      <th>Id</th>\n",
       "      <th>SalePrice</th>\n",
       "    </tr>\n",
       "  </thead>\n",
       "  <tbody>\n",
       "    <tr>\n",
       "      <th>0</th>\n",
       "      <td>1461</td>\n",
       "      <td>114527.108904</td>\n",
       "    </tr>\n",
       "    <tr>\n",
       "      <th>1</th>\n",
       "      <td>1462</td>\n",
       "      <td>152895.530635</td>\n",
       "    </tr>\n",
       "    <tr>\n",
       "      <th>2</th>\n",
       "      <td>1463</td>\n",
       "      <td>221069.344039</td>\n",
       "    </tr>\n",
       "    <tr>\n",
       "      <th>3</th>\n",
       "      <td>1464</td>\n",
       "      <td>216794.770364</td>\n",
       "    </tr>\n",
       "    <tr>\n",
       "      <th>4</th>\n",
       "      <td>1465</td>\n",
       "      <td>177002.847686</td>\n",
       "    </tr>\n",
       "  </tbody>\n",
       "</table>\n",
       "</div>"
      ],
      "text/plain": [
       "     Id      SalePrice\n",
       "0  1461  114527.108904\n",
       "1  1462  152895.530635\n",
       "2  1463  221069.344039\n",
       "3  1464  216794.770364\n",
       "4  1465  177002.847686"
      ]
     },
     "execution_count": 39,
     "metadata": {},
     "output_type": "execute_result"
    }
   ],
   "source": [
    "submission = pd.read_csv('submission.csv')\n",
    "submission.head(5)"
   ]
  }
 ],
 "metadata": {
  "kernelspec": {
   "display_name": "Python 3",
   "language": "python",
   "name": "python3"
  },
  "language_info": {
   "codemirror_mode": {
    "name": "ipython",
    "version": 3
   },
   "file_extension": ".py",
   "mimetype": "text/x-python",
   "name": "python",
   "nbconvert_exporter": "python",
   "pygments_lexer": "ipython3",
   "version": "3.10.6"
  }
 },
 "nbformat": 4,
 "nbformat_minor": 5
}
